{
 "cells": [
  {
   "cell_type": "code",
   "execution_count": 2,
   "id": "65b8dcf4-56d2-47c2-93b4-f67ea1e2aca0",
   "metadata": {},
   "outputs": [],
   "source": [
    "def factorial(n):\n",
    "       if n == 0 or n == 1:\n",
    "           return 1\n",
    "       else:\n",
    "           return n * factorial(n-1)"
   ]
  },
  {
   "cell_type": "code",
   "execution_count": 3,
   "id": "12aad9e6-c339-4e12-aa96-b90874830a61",
   "metadata": {
    "scrolled": true
   },
   "outputs": [
    {
     "name": "stdout",
     "output_type": "stream",
     "text": [
      "Факториал 0 равен 1\n",
      "Факториал 1 равен 1\n",
      "Факториал 2 равен 2\n",
      "Факториал 3 равен 6\n",
      "Факториал 4 равен 24\n"
     ]
    }
   ],
   "source": [
    "# Проверка функции\n",
    "for i in range(5):\n",
    "    print(f\"Факториал {i} равен {factorial(i)}\")"
   ]
  },
  {
   "cell_type": "code",
   "execution_count": 4,
   "id": "a1bea566-0656-41ad-857c-13eab59a1e4a",
   "metadata": {},
   "outputs": [
    {
     "name": "stdin",
     "output_type": "stream",
     "text": [
      "Введите число для вычисления факториала:  6\n"
     ]
    },
    {
     "name": "stdout",
     "output_type": "stream",
     "text": [
      "Факториал 6 равен 720\n"
     ]
    }
   ],
   "source": [
    "# Интерактивный ввод\n",
    "number = int(input(\"Введите число для вычисления факториала: \"))\n",
    "print(f\"Факториал {number} равен {factorial(number)}\")"
   ]
  },
  {
   "cell_type": "code",
   "execution_count": null,
   "id": "c31775e5-2e9e-4ee4-a38f-06a00ddaccb4",
   "metadata": {},
   "outputs": [],
   "source": []
  },
  {
   "cell_type": "code",
   "execution_count": null,
   "id": "1b7f366b-5794-4dfe-b543-797abbc4b93d",
   "metadata": {},
   "outputs": [],
   "source": []
  }
 ],
 "metadata": {
  "kernelspec": {
   "display_name": "Python 3 (ipykernel)",
   "language": "python",
   "name": "python3"
  },
  "language_info": {
   "codemirror_mode": {
    "name": "ipython",
    "version": 3
   },
   "file_extension": ".py",
   "mimetype": "text/x-python",
   "name": "python",
   "nbconvert_exporter": "python",
   "pygments_lexer": "ipython3",
   "version": "3.12.5"
  }
 },
 "nbformat": 4,
 "nbformat_minor": 5
}
